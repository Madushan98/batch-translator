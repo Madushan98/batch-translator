{
 "cells": [
  {
   "cell_type": "code",
   "execution_count": 52,
   "metadata": {},
   "outputs": [],
   "source": [
    "from deep_translator import GoogleTranslator\n",
    "GoogleTranslator(source='auto', target='si').translate(\"What should you do at mealtime ?\") \n",
    "\n",
    "file_name = \"trivia\"\n",
    "path = 'sinhala_data\\chatbot_qa\\\\'\n"
   ]
  },
  {
   "cell_type": "code",
   "execution_count": 53,
   "metadata": {},
   "outputs": [],
   "source": [
    "import yaml\n",
    "\n",
    "def read_yaml(path):\n",
    "    \"\"\" A function to read YAML file\"\"\"\n",
    "    with open(path) as f:\n",
    "        config = yaml.safe_load(f)\n",
    "\n",
    "    return config\n",
    "\n",
    "\n",
    "my_config = read_yaml( 'englsih_data\\\\' + file_name + '.yml')\n",
    "\n"
   ]
  },
  {
   "cell_type": "code",
   "execution_count": 54,
   "metadata": {},
   "outputs": [],
   "source": [
    "import numpy as np\n",
    "import pandas as pd\n",
    "import yaml\n",
    "\n",
    "questions, answers = [], []\n",
    "\n",
    "docs = my_config\n",
    "\n",
    "conversations = docs['conversations']\n",
    "for con in conversations:\n",
    "    if len(con) > 2 :\n",
    "        questions.append(con[0])\n",
    "        replies = con[1 :]\n",
    "        ans = ''\n",
    "        for rep in replies:\n",
    "            ans += ' ' + rep\n",
    "        answers.append(ans)\n",
    "    elif len(con)> 1:\n",
    "        questions.append(con[0])\n",
    "        answers.append(con[1])"
   ]
  },
  {
   "cell_type": "code",
   "execution_count": 55,
   "metadata": {},
   "outputs": [],
   "source": [
    "translatedQuestions = []\n",
    "\n",
    "for question in questions:\n",
    "    translatedQuestions.append(GoogleTranslator(source='auto', target='si').translate(question))\n"
   ]
  },
  {
   "cell_type": "code",
   "execution_count": 56,
   "metadata": {},
   "outputs": [
    {
     "ename": "NotValidPayload",
     "evalue": "1963 --> text must be a valid text with maximum 5000 character, otherwise it cannot be translated",
     "output_type": "error",
     "traceback": [
      "\u001b[1;31m---------------------------------------------------------------------------\u001b[0m",
      "\u001b[1;31mNotValidPayload\u001b[0m                           Traceback (most recent call last)",
      "Cell \u001b[1;32mIn[56], line 4\u001b[0m\n\u001b[0;32m      1\u001b[0m translatedAnswers \u001b[39m=\u001b[39m []\n\u001b[0;32m      3\u001b[0m \u001b[39mfor\u001b[39;00m ans \u001b[39min\u001b[39;00m answers:\n\u001b[1;32m----> 4\u001b[0m     ans_sinhala \u001b[39m=\u001b[39m GoogleTranslator(source\u001b[39m=\u001b[39;49m\u001b[39m'\u001b[39;49m\u001b[39mauto\u001b[39;49m\u001b[39m'\u001b[39;49m, target\u001b[39m=\u001b[39;49m\u001b[39m'\u001b[39;49m\u001b[39msi\u001b[39;49m\u001b[39m'\u001b[39;49m)\u001b[39m.\u001b[39;49mtranslate(ans)\n\u001b[0;32m      5\u001b[0m     translatedAnswers\u001b[39m.\u001b[39mappend(ans_sinhala)\n",
      "File \u001b[1;32mc:\\Users\\ranas\\anaconda3\\envs\\my_init\\lib\\site-packages\\deep_translator\\google.py:57\u001b[0m, in \u001b[0;36mGoogleTranslator.translate\u001b[1;34m(self, text, **kwargs)\u001b[0m\n\u001b[0;32m     51\u001b[0m \u001b[39mdef\u001b[39;00m \u001b[39mtranslate\u001b[39m(\u001b[39mself\u001b[39m, text: \u001b[39mstr\u001b[39m, \u001b[39m*\u001b[39m\u001b[39m*\u001b[39mkwargs) \u001b[39m-\u001b[39m\u001b[39m>\u001b[39m \u001b[39mstr\u001b[39m:\n\u001b[0;32m     52\u001b[0m     \u001b[39m\"\"\"\u001b[39;00m\n\u001b[0;32m     53\u001b[0m \u001b[39m    function to translate a text\u001b[39;00m\n\u001b[0;32m     54\u001b[0m \u001b[39m    @param text: desired text to translate\u001b[39;00m\n\u001b[0;32m     55\u001b[0m \u001b[39m    @return: str: translated text\u001b[39;00m\n\u001b[0;32m     56\u001b[0m \u001b[39m    \"\"\"\u001b[39;00m\n\u001b[1;32m---> 57\u001b[0m     \u001b[39mif\u001b[39;00m is_input_valid(text):\n\u001b[0;32m     58\u001b[0m         text \u001b[39m=\u001b[39m text\u001b[39m.\u001b[39mstrip()\n\u001b[0;32m     59\u001b[0m         \u001b[39mif\u001b[39;00m \u001b[39mself\u001b[39m\u001b[39m.\u001b[39m_same_source_target() \u001b[39mor\u001b[39;00m is_empty(text):\n",
      "File \u001b[1;32mc:\\Users\\ranas\\anaconda3\\envs\\my_init\\lib\\site-packages\\deep_translator\\validate.py:21\u001b[0m, in \u001b[0;36mis_input_valid\u001b[1;34m(text, min_chars, max_chars)\u001b[0m\n\u001b[0;32m     12\u001b[0m \u001b[39m\"\"\"\u001b[39;00m\n\u001b[0;32m     13\u001b[0m \u001b[39mvalidate the target text to translate\u001b[39;00m\n\u001b[0;32m     14\u001b[0m \u001b[39m@param min_chars: min characters\u001b[39;00m\n\u001b[1;32m   (...)\u001b[0m\n\u001b[0;32m     17\u001b[0m \u001b[39m@return: bool\u001b[39;00m\n\u001b[0;32m     18\u001b[0m \u001b[39m\"\"\"\u001b[39;00m\n\u001b[0;32m     20\u001b[0m \u001b[39mif\u001b[39;00m \u001b[39mnot\u001b[39;00m \u001b[39misinstance\u001b[39m(text, \u001b[39mstr\u001b[39m) \u001b[39mor\u001b[39;00m text\u001b[39m.\u001b[39misdigit():\n\u001b[1;32m---> 21\u001b[0m     \u001b[39mraise\u001b[39;00m NotValidPayload(text)\n\u001b[0;32m     22\u001b[0m \u001b[39mif\u001b[39;00m \u001b[39mnot\u001b[39;00m min_chars \u001b[39m<\u001b[39m\u001b[39m=\u001b[39m \u001b[39mlen\u001b[39m(text) \u001b[39m<\u001b[39m max_chars:\n\u001b[0;32m     23\u001b[0m     \u001b[39mraise\u001b[39;00m NotValidLength(text, min_chars, max_chars)\n",
      "\u001b[1;31mNotValidPayload\u001b[0m: 1963 --> text must be a valid text with maximum 5000 character, otherwise it cannot be translated"
     ]
    }
   ],
   "source": [
    "translatedAnswers = []\n",
    "\n",
    "for ans in answers:\n",
    "    ans_sinhala = GoogleTranslator(source='auto', target='si').translate(ans)\n",
    "    translatedAnswers.append(ans_sinhala)\n"
   ]
  },
  {
   "cell_type": "code",
   "execution_count": null,
   "metadata": {},
   "outputs": [
    {
     "name": "stdout",
     "output_type": "stream",
     "text": [
      "20\n",
      "20\n"
     ]
    }
   ],
   "source": [
    "print(len(translatedQuestions))\n",
    "print(len(translatedAnswers))"
   ]
  },
  {
   "cell_type": "code",
   "execution_count": null,
   "metadata": {},
   "outputs": [],
   "source": [
    "import csv\n",
    "\n",
    "f1 = open(path + file_name + '.csv', 'w+',newline='', encoding='utf-8')\n",
    "writer = csv.writer(f1)\n",
    "\n",
    "for i in range(len(translatedQuestions)):\n",
    "    writer.writerow([translatedQuestions[i], translatedAnswers[i]])\n",
    "    \n"
   ]
  }
 ],
 "metadata": {
  "kernelspec": {
   "display_name": "my_init",
   "language": "python",
   "name": "python3"
  },
  "language_info": {
   "codemirror_mode": {
    "name": "ipython",
    "version": 3
   },
   "file_extension": ".py",
   "mimetype": "text/x-python",
   "name": "python",
   "nbconvert_exporter": "python",
   "pygments_lexer": "ipython3",
   "version": "3.9.15"
  },
  "orig_nbformat": 4,
  "vscode": {
   "interpreter": {
    "hash": "0380d3a852a1b96b28c7a2f1c467f980e4f31b019e30308669f763d5d39a2a5c"
   }
  }
 },
 "nbformat": 4,
 "nbformat_minor": 2
}
